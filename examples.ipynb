{
 "cells": [
  {
   "cell_type": "code",
   "execution_count": 8,
   "metadata": {},
   "outputs": [],
   "source": [
    "import pandas as pd\n",
    "import numpy as np\n",
    "from mva.inference import *"
   ]
  },
  {
   "cell_type": "code",
   "execution_count": 2,
   "metadata": {},
   "outputs": [],
   "source": [
    "hbat = pd.DataFrame(pd.read_excel(r\"C:\\Users\\Gazzar\\Desktop\\Multivariate\\15- HBAT Data.xlsx\"))\n"
   ]
  },
  {
   "cell_type": "code",
   "execution_count": 3,
   "metadata": {},
   "outputs": [],
   "source": [
    "#hbat_test= hbat.loc[:,['x8', 'x13', 'x15']]"
   ]
  },
  {
   "cell_type": "code",
   "execution_count": 9,
   "metadata": {},
   "outputs": [
    {
     "data": {
      "text/plain": [
       "(array([[ 2.14594697, -0.41890657,  0.52818434],\n",
       "        [-0.41890657,  1.76853283,  0.07394495],\n",
       "        [ 0.52818434,  0.07394495,  1.45058131]]),\n",
       " array([[ 1.94959596, -0.86569697,  0.05626263],\n",
       "        [-0.86569697,  2.38719596,  0.05343434],\n",
       "        [ 0.05626263,  0.05343434,  2.22919192]]),\n",
       " array([[2.34229798, 0.02788384, 1.00010606],\n",
       "        [0.02788384, 1.1498697 , 0.09445556],\n",
       "        [1.00010606, 0.09445556, 0.67197071]]))"
      ]
     },
     "execution_count": 9,
     "metadata": {},
     "output_type": "execute_result"
    }
   ],
   "source": [
    "#H0: MU = [5,6,7] \n",
    "#spherecity_test(hbat_test)\n",
    "#s_pooled(hbat.loc[:,['x6', 'x13', 'x15']],hbat.loc[:,['x8', 'x12', 'x14']])\n"
   ]
  },
  {
   "cell_type": "code",
   "execution_count": 5,
   "metadata": {},
   "outputs": [
    {
     "name": "stdout",
     "output_type": "stream",
     "text": [
      "1.0\n"
     ]
    },
    {
     "name": "stderr",
     "output_type": "stream",
     "text": [
      "C:\\Users\\Gazzar\\AppData\\Local\\Temp/ipykernel_6208/2016475989.py:2: RuntimeWarning: divide by zero encountered in log\n",
      "  pval = chi2.sf(np.log(0), 3)\n"
     ]
    }
   ],
   "source": [
    "import matplotlib.pyplot as plt\n",
    "import numpy as np\n",
    "import pandas as pd\n",
    "from tabulate import  tabulate\n",
    "\n",
    "\n",
    "def _eigen_decompostion(X, cor = True):\n",
    "    \"\"\"\n",
    "    ..math:: A = Q.lambda.Q^-1\n",
    "    lambda: eigenvalues in descending oreder\n",
    "    Q: is normalized eigenvectors\n",
    "    \"\"\"\n",
    "    if cor == True:\n",
    "        R = X.corr()\n",
    "        lmbda, Q = np.linalg.eigh(R)\n",
    "\n",
    "        return lmbda, Q\n",
    "\n",
    "    else:\n",
    "        try:\n",
    "            S = np.cov(X, rowvar=False)\n",
    "            lmbda, Q = np.linalg.eigh(S)\n",
    "            return lmbda, Q\n",
    "\n",
    "        except:\n",
    "            raise ValueError(f'data matrix must be all numeric')\n",
    "   \n",
    "def fit(self, X):\n",
    "        self.eigenvals, self.eigenvectors = _eigen_decompostion(X, self.cor)\n",
    "        pass\n",
    "\n",
    "def summary(lamda):\n",
    "    \"\"\"eigenvalues table with % variance explained\"\"\"\n",
    "    pc_list = []\n",
    "    for i in range(len(lamda)):                    ##indexing each principle component\n",
    "        pc_list.append(\"PC\"+str(i+1))\n",
    "\n",
    "    for i in lamda:                              #proportion of variance explained by each principle component\n",
    "        prop_ex= i/sum(lamda)\n",
    "\n",
    "    data= {'Principle components':pc_list,\n",
    "        'Eigen values': lamda,\n",
    "        'Proportion': prop_ex\n",
    "        }   \n",
    "    df= pd.DataFrame(data)\n",
    "    df['Cumulative'] = df['proportion'].cumsum() ##cumulative proportion of variance explained\n",
    "\n",
    "\n",
    "    return \n",
    "\n",
    "def scree_plot(lamda,n_components):\n",
    "   #calculate total variance explained by each principal component\n",
    "    for i in lamda:                              #proportion of variance explained by each principle component\n",
    "        var_explained = i/sum(lamda)\n",
    "\n",
    "    pcs=np.arrange(n_components)\n",
    "\n",
    "    plt.plot(pcs, var_explained, 'o-', linewidth=2, color='blue')\n",
    "    plt.title('Scree Plot')\n",
    "    plt.xlabel('Principal Component')\n",
    "    plt.ylabel('Variance Explained')\n",
    "    plt.show()\n",
    "\n",
    "    return\n",
    "\n",
    "\n",
    "\n",
    "\n",
    "\n",
    "\n"
   ]
  }
 ],
 "metadata": {
  "kernelspec": {
   "display_name": "Python 3.9.7 ('base')",
   "language": "python",
   "name": "python3"
  },
  "language_info": {
   "codemirror_mode": {
    "name": "ipython",
    "version": 3
   },
   "file_extension": ".py",
   "mimetype": "text/x-python",
   "name": "python",
   "nbconvert_exporter": "python",
   "pygments_lexer": "ipython3",
   "version": "3.9.7"
  },
  "orig_nbformat": 4,
  "vscode": {
   "interpreter": {
    "hash": "4ee5e6174d8767817a14ef88d946a9382bb2f63f38dfe62c38dfaac4a062e764"
   }
  }
 },
 "nbformat": 4,
 "nbformat_minor": 2
}
