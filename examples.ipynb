{
 "cells": [
  {
   "cell_type": "code",
   "execution_count": null,
   "metadata": {},
   "outputs": [],
   "source": [
    "import pandas as pd\n",
    "from mva.inference import hotteling1sample_test"
   ]
  },
  {
   "cell_type": "code",
   "execution_count": null,
   "metadata": {},
   "outputs": [],
   "source": [
    "hbat = pd.read_excel(\"C:\\Users\\k_abo\\Desktop\\mva\\15- HBAT Data.xlsx\")"
   ]
  },
  {
   "cell_type": "code",
   "execution_count": null,
   "metadata": {},
   "outputs": [],
   "source": [
    "#H0: MU = [5,6,7] \n",
    "hotteling1sample_test(hbat.loc[:,'x8', 'x9', 'x13'], MU = [5,6,7])"
   ]
  }
 ],
 "metadata": {
  "kernelspec": {
   "display_name": "Python 3.10.7 ('venv': venv)",
   "language": "python",
   "name": "python3"
  },
  "language_info": {
   "name": "python",
   "version": "3.10.7"
  },
  "orig_nbformat": 4,
  "vscode": {
   "interpreter": {
    "hash": "a4f50abb033fbda282e4de316827e20ade5f246a9eaf17491363da4878a0b2ce"
   }
  }
 },
 "nbformat": 4,
 "nbformat_minor": 2
}
