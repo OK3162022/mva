{
 "cells": [
  {
   "cell_type": "code",
   "execution_count": 23,
   "metadata": {},
   "outputs": [],
   "source": [
    "import pandas as pd\n",
    "import numpy as np\n",
    "from mva.inference import hotteling2sample_ind_test\n",
    "#from scipy.stats.distributions import chi2, f\n",
    "hbat = pd.read_excel(r\"C:\\Users\\k_abo\\Desktop\\mva\\15- HBAT Data.xlsx\")"
   ]
  },
  {
   "cell_type": "code",
   "execution_count": 24,
   "metadata": {},
   "outputs": [
    {
     "ename": "AttributeError",
     "evalue": "'matrix' object has no attribute 'sf'",
     "output_type": "error",
     "traceback": [
      "\u001b[1;31m---------------------------------------------------------------------------\u001b[0m",
      "\u001b[1;31mAttributeError\u001b[0m                            Traceback (most recent call last)",
      "Cell \u001b[1;32mIn [24], line 4\u001b[0m\n\u001b[0;32m      2\u001b[0m data2 \u001b[39m=\u001b[39m hbat\u001b[39m.\u001b[39mloc[:,[\u001b[39m'\u001b[39m\u001b[39mx12\u001b[39m\u001b[39m'\u001b[39m, \u001b[39m'\u001b[39m\u001b[39mx13\u001b[39m\u001b[39m'\u001b[39m, \u001b[39m\"\u001b[39m\u001b[39mx14\u001b[39m\u001b[39m\"\u001b[39m, \u001b[39m'\u001b[39m\u001b[39mx15\u001b[39m\u001b[39m'\u001b[39m, \u001b[39m'\u001b[39m\u001b[39mx16\u001b[39m\u001b[39m'\u001b[39m]]\n\u001b[0;32m      3\u001b[0m MU \u001b[39m=\u001b[39m [\u001b[39m12\u001b[39m,\u001b[39m5\u001b[39m, \u001b[39m6\u001b[39m,\u001b[39m3\u001b[39m,\u001b[39m4\u001b[39m]\n\u001b[1;32m----> 4\u001b[0m test, pvalue \u001b[39m=\u001b[39m hotteling2sample_ind_test(data1, data2)\n\u001b[0;32m      5\u001b[0m \u001b[39mprint\u001b[39m(test)\n",
      "File \u001b[1;32mc:\\Users\\k_abo\\Desktop\\mva\\mva\\inference.py:132\u001b[0m, in \u001b[0;36mhotteling2sample_ind_test\u001b[1;34m(data1, data2, equal_var)\u001b[0m\n\u001b[0;32m    130\u001b[0m Sinv \u001b[39m=\u001b[39m np\u001b[39m.\u001b[39mlinalg\u001b[39m.\u001b[39minv(s_pooled(X1, X2))    \u001b[39m#inverse of S_pooled  \u001b[39;00m\n\u001b[0;32m    131\u001b[0m T2 \u001b[39m=\u001b[39m ((n1\u001b[39m*\u001b[39mn2)\u001b[39m/\u001b[39m(n1 \u001b[39m+\u001b[39m n2)) \u001b[39m*\u001b[39m np\u001b[39m.\u001b[39mmatmul(np\u001b[39m.\u001b[39mmatmul((Xbar1 \u001b[39m-\u001b[39m Xbar2)\u001b[39m.\u001b[39mT, Sinv), (Xbar1 \u001b[39m-\u001b[39m Xbar2))\n\u001b[1;32m--> 132\u001b[0m f \u001b[39m=\u001b[39m (n1 \u001b[39m+\u001b[39m n2 \u001b[39m-\u001b[39m p \u001b[39m-\u001b[39m \u001b[39m1\u001b[39m)\u001b[39m/\u001b[39m((n1\u001b[39m+\u001b[39mn2\u001b[39m-\u001b[39m\u001b[39m2\u001b[39m)\u001b[39m*\u001b[39mp) \u001b[39m*\u001b[39m T2\n\u001b[0;32m    133\u001b[0m df \u001b[39m=\u001b[39m n1\u001b[39m+\u001b[39m n2 \u001b[39m-\u001b[39m p \u001b[39m-\u001b[39m \u001b[39m1\u001b[39m\n\u001b[0;32m    134\u001b[0m pval \u001b[39m=\u001b[39m f\u001b[39m.\u001b[39msf(f, p, df)\n",
      "\u001b[1;31mAttributeError\u001b[0m: 'matrix' object has no attribute 'sf'"
     ]
    }
   ],
   "source": [
    "data1 = hbat.loc[:,['x12', 'x13', \"x14\", 'x15', 'x16']]\n",
    "data2 = hbat.loc[:,['x12', 'x13', \"x14\", 'x15', 'x16']]\n",
    "MU = [12,5, 6,3,4]\n",
    "test, pvalue = hotteling2sample_ind_test(data1, data2)\n",
    "print(test)"
   ]
  },
  {
   "cell_type": "code",
   "execution_count": 48,
   "metadata": {},
   "outputs": [
    {
     "name": "stdout",
     "output_type": "stream",
     "text": [
      "(<scipy.stats._continuous_distns.f_gen object at 0x0000024A0C6EB7F0>, array([[2.02147357e-82]]))\n"
     ]
    }
   ],
   "source": [
    "print(hotteling1sample_test(data, MU = MU))"
   ]
  }
 ],
 "metadata": {
  "kernelspec": {
   "display_name": "Python 3.10.7 ('venv': venv)",
   "language": "python",
   "name": "python3"
  },
  "language_info": {
   "codemirror_mode": {
    "name": "ipython",
    "version": 3
   },
   "file_extension": ".py",
   "mimetype": "text/x-python",
   "name": "python",
   "nbconvert_exporter": "python",
   "pygments_lexer": "ipython3",
   "version": "3.10.7"
  },
  "orig_nbformat": 4,
  "vscode": {
   "interpreter": {
    "hash": "a4f50abb033fbda282e4de316827e20ade5f246a9eaf17491363da4878a0b2ce"
   }
  }
 },
 "nbformat": 4,
 "nbformat_minor": 2
}
